{
 "cells": [
  {
   "cell_type": "markdown",
   "id": "febe2915-5cfe-42d2-9159-58d61474ce02",
   "metadata": {},
   "source": [
    "### Precision, Recall and F1 Score\n",
    "\n",
    "<div style=\"font-size:20px\">\n",
    "<b>Precision</b> measures how many of the predicted positives are actually correct.  \n",
    "<b>Recall</b> (also called sensitivity) measures how many of the actual positives were correctly predicted.  \n",
    "<b>F1 Score</b> is the harmonic mean of Precision and Recall, balancing both metrics.\n",
    "</div>\n",
    "\n",
    "<div style=\"font-size:22px; margin-top:15px\">\n",
    "$Precision = \\frac{TP}{TP + FP}$\n",
    "\n",
    "$Recall = \\frac{TP}{TP + FN}$\n",
    "\n",
    "$F1 = 2 \\cdot \\frac{Precision \\cdot Recall}{Precision + Recall}$\n",
    "</div>\n",
    "\n",
    "### Interpretation\n",
    "\n",
    "<div style=\"font-size:20px\">\n",
    "    \n",
    "- <b>High Precision</b> → few <i>false alarms</i> (<b>False Positives</b>).  \n",
    "  When the model predicts a positive case, it is usually correct.  \n",
    "\n",
    "- <b>High Recall</b> → few <i>misses</i> (<b>False Negatives</b>).  \n",
    "  The model is able to detect most of the actual positive cases.  \n",
    "\n",
    "- <b>F1 Score</b> → balance between avoiding <i>false alarms</i> (FP) and avoiding <i>misses</i> (FN).\n",
    "</div>\n",
    "\n"
   ]
  },
  {
   "cell_type": "code",
   "execution_count": 12,
   "id": "d254394b-f10e-4116-be83-8abbec756bbf",
   "metadata": {},
   "outputs": [
    {
     "name": "stdout",
     "output_type": "stream",
     "text": [
      "Precision: 1.00\n",
      "Recall: 0.80\n",
      "F1 Score: 0.89\n"
     ]
    },
    {
     "data": {
      "text/html": [
       "<div style='font-size:18px'><table border=\"1\" class=\"dataframe\">\n",
       "  <thead>\n",
       "    <tr style=\"text-align: right;\">\n",
       "      <th></th>\n",
       "      <th>Predicted 0</th>\n",
       "      <th>Predicted 1</th>\n",
       "    </tr>\n",
       "  </thead>\n",
       "  <tbody>\n",
       "    <tr>\n",
       "      <th>Actual 0</th>\n",
       "      <td>5</td>\n",
       "      <td>0</td>\n",
       "    </tr>\n",
       "    <tr>\n",
       "      <th>Actual 1</th>\n",
       "      <td>1</td>\n",
       "      <td>4</td>\n",
       "    </tr>\n",
       "  </tbody>\n",
       "</table></div>"
      ],
      "text/plain": [
       "<IPython.core.display.HTML object>"
      ]
     },
     "metadata": {},
     "output_type": "display_data"
    },
    {
     "data": {
      "image/png": "[encoded data removed]",
      "text/plain": [
       "<Figure size 500x500 with 1 Axes>"
      ]
     },
     "metadata": {},
     "output_type": "display_data"
    }
   ],
   "source": [
    "import numpy as np\n",
    "import matplotlib.pyplot as plt\n",
    "import pandas as pd\n",
    "from sklearn.metrics import precision_score, recall_score, f1_score, confusion_matrix\n",
    "\n",
    "\n",
    "y_true = [1, 0, 1, 1, 0, 0, 1, 0, 0, 1]\n",
    "y_pred = [1, 0, 1, 0, 0, 0, 1, 0, 0, 1]\n",
    "\n",
    "\n",
    "precision = precision_score(y_true, y_pred)\n",
    "recall = recall_score(y_true, y_pred)\n",
    "f1 = f1_score(y_true, y_pred)\n",
    "\n",
    "print(f\"Precision: {precision:.2f}\")\n",
    "print(f\"Recall: {recall:.2f}\")\n",
    "print(f\"F1 Score: {f1:.2f}\")\n",
    "\n",
    "\n",
    "cm = confusion_matrix(y_true, y_pred)\n",
    "\n",
    "\n",
    "df_cm = pd.DataFrame(cm,\n",
    "                     index=[\"Actual 0\", \"Actual 1\"],\n",
    "                     columns=[\"Predicted 0\", \"Predicted 1\"])\n",
    "\n",
    "from IPython.display import display, HTML\n",
    "html_table = df_cm.to_html()\n",
    "display(HTML(f\"<div style='font-size:18px'>{html_table}</div>\"))\n",
    "\n",
    "\n",
    "fig, ax = plt.subplots(figsize=(5, 5))\n",
    "\n",
    "colors = np.array([[\"green\", \"red\"],\n",
    "                   [\"red\", \"green\"]])\n",
    "\n",
    "for i in range(cm.shape[0]):\n",
    "    for j in range(cm.shape[1]):\n",
    "        ax.add_patch(plt.Rectangle((j, i), 1, 1,\n",
    "                                   facecolor=colors[i, j],\n",
    "                                   edgecolor=\"black\"))\n",
    "        ax.text(j + 0.5, i + 0.5, cm[i, j],\n",
    "                ha=\"center\", va=\"center\", fontsize=16,\n",
    "                color=\"white\", weight=\"bold\")\n",
    "\n",
    "ax.set_xticks(np.arange(2) + 0.5)\n",
    "ax.set_yticks(np.arange(2) + 0.5)\n",
    "ax.set_xticklabels([\"Predicted 0\", \"Predicted 1\"])\n",
    "ax.set_yticklabels([\"Actual 0\", \"Actual 1\"])\n",
    "ax.set_title(f\"Confusion Matrix\\nPrecision={precision:.2f}, Recall={recall:.2f}, F1={f1:.2f}\", pad=20)\n",
    "ax.set_xlim(0, 2)\n",
    "ax.set_ylim(2, 0)\n",
    "plt.show()\n"
   ]
  }
 ],
 "metadata": {
  "kernelspec": {
   "display_name": "PythonforDataScience",
   "language": "python",
   "name": "pythonfordatascience"
  },
  "language_info": {
   "codemirror_mode": {
    "name": "ipython",
    "version": 3
   },
   "file_extension": ".py",
   "mimetype": "text/x-python",
   "name": "python",
   "nbconvert_exporter": "python",
   "pygments_lexer": "ipython3",
   "version": "3.13.5"
  }
 },
 "nbformat": 4,
 "nbformat_minor": 5
}
