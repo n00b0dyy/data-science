{
 "cells": [
  {
   "cell_type": "markdown",
   "id": "817b6d99-790f-41f4-b581-a96549557b03",
   "metadata": {},
   "source": [
    "### Accuracy\n",
    "\n",
    "<div style=\"font-size:20px\">\n",
    "Accuracy is the proportion of correctly classified samples  \n",
    "over the total number of samples.  \n",
    "It is the most intuitive evaluation metric for classification,  \n",
    "but it can be misleading if the dataset is imbalanced.\n",
    "</div>\n",
    "\n",
    "<div style=\"font-size:22px; margin-top:15px\">\n",
    "$\\text{Accuracy} = \\frac{TP + TN}{TP + TN + FP + FN}$\n",
    "</div>\n"
   ]
  },
  {
   "cell_type": "code",
   "execution_count": 8,
   "id": "7998cddd-4ccc-443d-8d9f-6a4b8f84fbbb",
   "metadata": {},
   "outputs": [
    {
     "name": "stdout",
     "output_type": "stream",
     "text": [
      "Accuracy: 0.8\n"
     ]
    },
    {
     "data": {
      "text/html": [
       "<div>\n",
       "<style scoped>\n",
       "    .dataframe tbody tr th:only-of-type {\n",
       "        vertical-align: middle;\n",
       "    }\n",
       "\n",
       "    .dataframe tbody tr th {\n",
       "        vertical-align: top;\n",
       "    }\n",
       "\n",
       "    .dataframe thead th {\n",
       "        text-align: right;\n",
       "    }\n",
       "</style>\n",
       "<table border=\"1\" class=\"dataframe\">\n",
       "  <thead>\n",
       "    <tr style=\"text-align: right;\">\n",
       "      <th></th>\n",
       "      <th>Predicted 0</th>\n",
       "      <th>Predicted 1</th>\n",
       "    </tr>\n",
       "  </thead>\n",
       "  <tbody>\n",
       "    <tr>\n",
       "      <th>Actual 0</th>\n",
       "      <td>4</td>\n",
       "      <td>1</td>\n",
       "    </tr>\n",
       "    <tr>\n",
       "      <th>Actual 1</th>\n",
       "      <td>1</td>\n",
       "      <td>4</td>\n",
       "    </tr>\n",
       "  </tbody>\n",
       "</table>\n",
       "</div>"
      ],
      "text/plain": [
       "          Predicted 0  Predicted 1\n",
       "Actual 0            4            1\n",
       "Actual 1            1            4"
      ]
     },
     "metadata": {},
     "output_type": "display_data"
    },
    {
     "data": {
      "text/plain": [
       "(2.0, 0.0)"
      ]
     },
     "execution_count": 8,
     "metadata": {},
     "output_type": "execute_result"
    },
    {
     "data": {
      "image/png": "[encoded data removed]",
      "text/plain": [
       "<Figure size 500x500 with 1 Axes>"
      ]
     },
     "metadata": {},
     "output_type": "display_data"
    }
   ],
   "source": [
    "import numpy as np\n",
    "import matplotlib.pyplot as plt\n",
    "import pandas as pd\n",
    "from sklearn.metrics import accuracy_score, confusion_matrix\n",
    "\n",
    "y_true = [1, 0, 1, 1, 0, 0, 1, 0, 0, 1]\n",
    "y_pred = [1, 0, 1, 0, 0, 0, 1, 1, 0, 1]\n",
    "\n",
    "acc = accuracy_score(y_true, y_pred)\n",
    "print(\"Accuracy:\", acc)\n",
    "\n",
    "cm = confusion_matrix(y_true, y_pred)\n",
    "\n",
    "df_cm = pd.DataFrame(cm,\n",
    "                     index=[\"Actual 0\", \"Actual 1\"],\n",
    "                     columns=[\"Predicted 0\", \"Predicted 1\"])\n",
    "\n",
    "\n",
    "display(df_cm)\n",
    "\n",
    "fig, ax = plt.subplots(figsize=(5, 5))\n",
    "\n",
    "\n",
    "colors = np.array([[\"green\", \"red\"],\n",
    "                   [\"red\", \"green\"]])\n",
    "\n",
    "for i in range(cm.shape[0]):\n",
    "    for j in range(cm.shape[1]):\n",
    "        ax.add_patch(plt.Rectangle((j, i), 1, 1,\n",
    "                                   facecolor=colors[i, j],\n",
    "                                   edgecolor=\"black\"))\n",
    "        ax.text(j + 0.5, i + 0.5, cm[i, j],\n",
    "                ha=\"center\", va=\"center\", fontsize=16, color=\"white\", weight=\"bold\")\n",
    "\n",
    "ax.set_xticks(np.arange(2) + 0.5)\n",
    "ax.set_yticks(np.arange(2) + 0.5)\n",
    "ax.set_xticklabels([\"Predicted 0\", \"Predicted 1\"])\n",
    "ax.set_yticklabels([\"Actual 0\", \"Actual 1\"])\n",
    "ax.set_title(f\"Confusion Matrix (Accuracy={acc:.2f})\", pad=30)\n",
    "ax.set_xlim(0, 2)\n",
    "ax.set_ylim(2, 0)  \n"
   ]
  }
 ],
 "metadata": {
  "kernelspec": {
   "display_name": "PythonforDataScience",
   "language": "python",
   "name": "pythonfordatascience"
  },
  "language_info": {
   "codemirror_mode": {
    "name": "ipython",
    "version": 3
   },
   "file_extension": ".py",
   "mimetype": "text/x-python",
   "name": "python",
   "nbconvert_exporter": "python",
   "pygments_lexer": "ipython3",
   "version": "3.13.5"
  }
 },
 "nbformat": 4,
 "nbformat_minor": 5
}
