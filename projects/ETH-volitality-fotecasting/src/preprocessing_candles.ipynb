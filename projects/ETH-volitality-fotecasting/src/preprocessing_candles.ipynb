{
 "cells": [
  {
   "cell_type": "code",
   "execution_count": 6,
   "id": "8c0f53c4-9ada-4d0d-a6c9-8e87132d8cf3",
   "metadata": {},
   "outputs": [],
   "source": [
    "import pandas as pd\n",
    "import numpy as np\n",
    "import matplotlib.pyplot as plt\n",
    "import seaborn as sns\n",
    "import os\n",
    "from scipy import stats\n"
   ]
  },
  {
   "cell_type": "code",
   "execution_count": 3,
   "id": "f851c295-e30a-4b10-a9ac-a61fb7248ce9",
   "metadata": {},
   "outputs": [
    {
     "name": "stdout",
     "output_type": "stream",
     "text": [
      "Size: (17280, 12)\n",
      "Columns: ['open_time', 'open', 'high', 'low', 'close', 'volume', 'quote_asset_volume', 'num_trades', 'taker_buy_base', 'taker_buy_quote', 'volume_log', 'volume_log_z']\n",
      "             open_time     open     high      low    close     volume  \\\n",
      "0  2024-01-01 00:00:00  2281.87  2287.84  2281.27  2287.84   910.5701   \n",
      "1  2024-01-01 00:05:00  2287.83  2291.83  2287.06  2290.77  1652.9290   \n",
      "2  2024-01-01 00:10:00  2290.77  2296.97  2290.76  2296.71  1829.5259   \n",
      "3  2024-01-01 00:15:00  2296.71  2297.00  2292.36  2292.36   890.8524   \n",
      "4  2024-01-01 00:20:00  2292.37  2295.87  2292.30  2294.67   763.7046   \n",
      "\n",
      "   quote_asset_volume  num_trades  taker_buy_base  taker_buy_quote  \\\n",
      "0        2.080313e+06        2593        585.7254     1.338369e+06   \n",
      "1        3.785227e+06        3354       1058.4951     2.423910e+06   \n",
      "2        4.197682e+06        3321       1033.8721     2.372038e+06   \n",
      "3        2.044781e+06        2332        249.9496     5.737015e+05   \n",
      "4        1.751663e+06        2029        525.5200     1.205274e+06   \n",
      "\n",
      "   volume_log  volume_log_z  \n",
      "0    6.815168      0.630704  \n",
      "1    7.410909      1.614154  \n",
      "2    7.512359      1.766073  \n",
      "3    6.793301      0.578234  \n",
      "4    6.639490      0.321646  \n"
     ]
    }
   ],
   "source": [
    "DATA_PATH = os.path.join(\"..\", \"candles\", \"train_sample.csv\")\n",
    "\n",
    "df = pd.read_csv(DATA_PATH)\n",
    "\n",
    "\n",
    "print(\"Size:\", df.shape)\n",
    "print(\"Columns:\", df.columns.tolist())\n",
    "print(df.head())\n"
   ]
  },
  {
   "cell_type": "code",
   "execution_count": 4,
   "id": "b1b3790c-c8e6-4efc-8bcf-152d54a75974",
   "metadata": {},
   "outputs": [
    {
     "name": "stdout",
     "output_type": "stream",
     "text": [
      "\n",
      "== Missing values (NaN) ==\n",
      "open_time             0\n",
      "open                  0\n",
      "high                  0\n",
      "low                   0\n",
      "close                 0\n",
      "volume                0\n",
      "quote_asset_volume    0\n",
      "num_trades            0\n",
      "taker_buy_base        0\n",
      "taker_buy_quote       0\n",
      "volume_log            0\n",
      "volume_log_z          0\n",
      "dtype: int64\n",
      "\n",
      "== Infinite values (inf) ==\n",
      "open                  0\n",
      "high                  0\n",
      "low                   0\n",
      "close                 0\n",
      "volume                0\n",
      "quote_asset_volume    0\n",
      "num_trades            0\n",
      "taker_buy_base        0\n",
      "taker_buy_quote       0\n",
      "volume_log            0\n",
      "volume_log_z          0\n",
      "dtype: int64\n",
      "\n",
      "== Data types and general info ==\n",
      "<class 'pandas.core.frame.DataFrame'>\n",
      "RangeIndex: 17280 entries, 0 to 17279\n",
      "Data columns (total 12 columns):\n",
      " #   Column              Non-Null Count  Dtype  \n",
      "---  ------              --------------  -----  \n",
      " 0   open_time           17280 non-null  object \n",
      " 1   open                17280 non-null  float64\n",
      " 2   high                17280 non-null  float64\n",
      " 3   low                 17280 non-null  float64\n",
      " 4   close               17280 non-null  float64\n",
      " 5   volume              17280 non-null  float64\n",
      " 6   quote_asset_volume  17280 non-null  float64\n",
      " 7   num_trades          17280 non-null  int64  \n",
      " 8   taker_buy_base      17280 non-null  float64\n",
      " 9   taker_buy_quote     17280 non-null  float64\n",
      " 10  volume_log          17280 non-null  float64\n",
      " 11  volume_log_z        17280 non-null  float64\n",
      "dtypes: float64(10), int64(1), object(1)\n",
      "memory usage: 1.6+ MB\n",
      "None\n",
      "\n",
      "== Descriptive statistics ==\n",
      "                      count          mean           std            min  \\\n",
      "open                17280.0  2.543473e+03  3.041411e+02    2137.250000   \n",
      "high                17280.0  2.546078e+03  3.048408e+02    2176.970000   \n",
      "low                 17280.0  2.540739e+03  3.033615e+02    2100.000000   \n",
      "close               17280.0  2.543534e+03  3.041951e+02    2137.250000   \n",
      "volume              17280.0  1.466947e+03  1.749264e+03      76.399800   \n",
      "quote_asset_volume  17280.0  3.820524e+06  4.784557e+06  176103.922753   \n",
      "num_trades          17280.0  3.489125e+03  3.153983e+03     532.000000   \n",
      "taker_buy_base      17280.0  7.398483e+02  8.990146e+02      20.738100   \n",
      "taker_buy_quote     17280.0  1.927899e+06  2.473575e+06   47799.555312   \n",
      "volume_log          17280.0  6.920260e+00  8.145585e-01       4.348984   \n",
      "volume_log_z        17280.0  7.110537e-03  1.058621e+00      -3.807748   \n",
      "\n",
      "                             25%           50%           75%           max  \n",
      "open                2.300110e+03  2.472445e+03  2.760585e+03  3.517570e+03  \n",
      "high                2.301730e+03  2.473685e+03  2.764490e+03  3.522810e+03  \n",
      "low                 2.298798e+03  2.471000e+03  2.757245e+03  3.508290e+03  \n",
      "close               2.300108e+03  2.472450e+03  2.760695e+03  3.517570e+03  \n",
      "volume              5.748039e+02  9.569182e+02  1.673704e+03  4.488909e+04  \n",
      "quote_asset_volume  1.404293e+06  2.416363e+06  4.343512e+06  1.477250e+08  \n",
      "num_trades          1.786750e+03  2.644000e+03  4.097250e+03  8.706800e+04  \n",
      "taker_buy_base      2.734607e+02  4.737182e+02  8.546372e+02  2.132598e+04  \n",
      "taker_buy_quote     6.739909e+05  1.192421e+06  2.199071e+06  6.999306e+07  \n",
      "volume_log          6.355767e+00  6.864762e+00  7.423391e+00  1.071197e+01  \n",
      "volume_log_z       -7.400431e-01 -9.502768e-02  6.453793e-01  5.314772e+00  \n"
     ]
    }
   ],
   "source": [
    "# === Data diagnostics ===\n",
    "print(\"\\n== Missing values (NaN) ==\")\n",
    "print(df.isna().sum())\n",
    "\n",
    "print(\"\\n== Infinite values (inf) ==\")\n",
    "print(np.isinf(df.select_dtypes(include=[np.number])).sum())\n",
    "\n",
    "print(\"\\n== Data types and general info ==\")\n",
    "print(df.info())\n",
    "\n",
    "print(\"\\n== Descriptive statistics ==\")\n",
    "print(df.describe().T)"
   ]
  },
  {
   "cell_type": "code",
   "execution_count": 5,
   "id": "06333946-5f72-4086-8d42-237240d3573f",
   "metadata": {},
   "outputs": [
    {
     "data": {
      "image/png": "[encoded data removed]",
      "text/plain": [
       "<Figure size 1000x400 with 1 Axes>"
      ]
     },
     "metadata": {},
     "output_type": "display_data"
    }
   ],
   "source": [
    "plt.figure(figsize=(10, 4))\n",
    "sns.boxplot(x=df[\"volume\"])\n",
    "plt.title(\"Volume Distribution (Boxplot)\")\n",
    "plt.show()\n"
   ]
  },
  {
   "cell_type": "code",
   "execution_count": 14,
   "id": "d0e4d809-af34-4812-aa36-ff7d638340dd",
   "metadata": {},
   "outputs": [
    {
     "name": "stdout",
     "output_type": "stream",
     "text": [
      "Number of volume outliers (>5 std): 116\n",
      "               open_time      volume\n",
      "719  2024-01-03 11:55:00  12509.6855\n",
      "720  2024-01-03 12:00:00  28353.6717\n",
      "721  2024-01-03 12:05:00  31675.4891\n",
      "722  2024-01-03 12:10:00  33739.8904\n",
      "723  2024-01-03 12:15:00  19688.3521\n"
     ]
    }
   ],
   "source": [
    "z_scores = np.abs(stats.zscore(df[\"volume\"]))\n",
    "outliers = df[z_scores > 5]\n",
    "print(f\"Number of volume outliers (>5 std): {len(outliers)}\")\n",
    "print(outliers[[\"open_time\", \"volume\"]].head())\n"
   ]
  },
  {
   "cell_type": "markdown",
   "id": "aaf3ceed-07da-432f-9b4d-7b4581c0df26",
   "metadata": {},
   "source": [
    "## **116 cases above 5σ in just three months**\n",
    "\n",
    "In traditional finance, a **5-sigma event** (five standard deviations away from the mean) is something you might see **once in a decade** — maybe when a bank implodes or the market collectively loses its mind.\n",
    "\n",
    "But Ethereum?  \n",
    "Ethereum doesn’t *do* normality. It runs on **adrenaline and chaos**.\n",
    "\n",
    "These **116 outlier spikes in volume** are likely caused by:\n",
    "\n",
    "- **Liquidity shocks** — sudden inflows or drains of capital.  \n",
    "- **Arbitrage bots** exploiting micro-price differences.  \n",
    "- **Flash loans** and **DeFi liquidations** detonating short-term volume.  \n",
    "- **Front-running** and high-frequency trading bursts.\n",
    "\n",
    "From a modeling perspective:\n",
    "\n",
    "- For **GARCH / EGARCH**, these extreme values are *gold*: they represent **volatility clustering**, the very phenomenon the models aim to capture.  \n",
    "- For **exploratory visualization** (histograms, correlations, scatterplots), these spikes distort the scale. In that case, temporarily filtering out the top **1% quantile** makes the plots more readable, without losing statistical integrity.\n",
    "\n",
    "In short:  \n",
    "Leave the madness in for the model — trim it out only for the charts.\n"
   ]
  }
 ],
 "metadata": {
  "kernelspec": {
   "display_name": "PythonforDataScience",
   "language": "python",
   "name": "pythonfordatascience"
  },
  "language_info": {
   "codemirror_mode": {
    "name": "ipython",
    "version": 3
   },
   "file_extension": ".py",
   "mimetype": "text/x-python",
   "name": "python",
   "nbconvert_exporter": "python",
   "pygments_lexer": "ipython3",
   "version": "3.13.5"
  }
 },
 "nbformat": 4,
 "nbformat_minor": 5
}
