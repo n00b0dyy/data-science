{
 "cells": [
  {
   "cell_type": "code",
   "execution_count": 2,
   "id": "b349276b-b1d0-4fa6-b934-94a548dedc2c",
   "metadata": {},
   "outputs": [
    {
     "name": "stdout",
     "output_type": "stream",
     "text": [
      "Project root: C:\\GitHubRepo\\data-science\\projects\\ETH-volitality-fotecasting\n",
      "Src path: C:\\GitHubRepo\\data-science\\projects\\ETH-volitality-fotecasting\\src\n",
      "[config] Project root: C:\\GitHubRepo\\data-science\\projects\\ETH-volitality-fotecasting\n",
      "[config] Data path: C:\\GitHubRepo\\data-science\\projects\\ETH-volitality-fotecasting\\candles\\train_sample.csv\n",
      "[config] Plots directory: C:\\GitHubRepo\\data-science\\projects\\ETH-volitality-fotecasting\\plots\n",
      "[config] Logs directory: C:\\GitHubRepo\\data-science\\projects\\ETH-volitality-fotecasting\\logs\n",
      "[config] Default EGARCH params -> p=1, o=1, q=1, dist=t\n"
     ]
    }
   ],
   "source": [
    "# === EGARCH Residual Diagnostics Notebook ===\n",
    "# Setup paths and import project modules\n",
    "\n",
    "import os\n",
    "import sys\n",
    "\n",
    "# --- Add project root and src folder to sys.path ---\n",
    "notebook_dir = os.path.dirname(os.path.abspath(\"__file__\"))\n",
    "project_root = os.path.abspath(os.path.join(notebook_dir, \"..\"))\n",
    "src_path = os.path.join(project_root, \"src\")\n",
    "\n",
    "for path in [project_root, src_path]:\n",
    "    if path not in sys.path:\n",
    "        sys.path.append(path)\n",
    "\n",
    "print(f\"Project root: {project_root}\")\n",
    "print(f\"Src path: {src_path}\")\n",
    "\n",
    "# --- Now imports will work regardless of working directory ---\n",
    "from src.config import *\n",
    "from src.data_loader import load_eth_data\n",
    "from src.egarch_model import train_egarch\n",
    "from src.egarch_diagnostics import egarch_residual_diagnostics\n"
   ]
  },
  {
   "cell_type": "code",
   "execution_count": 3,
   "id": "38f777fb-55fe-4ef7-b43c-64d8a1119380",
   "metadata": {},
   "outputs": [
    {
     "name": "stdout",
     "output_type": "stream",
     "text": [
      "📂 Loading data from: C:\\GitHubRepo\\data-science\\projects\\ETH-volitality-fotecasting\\candles\\train_sample.csv\n",
      "✅ Data loaded successfully\n",
      "Shape: (17280, 12)\n",
      "Columns: ['open_time', 'open', 'high', 'low', 'close', 'volume', 'quote_asset_volume', 'num_trades', 'taker_buy_base', 'taker_buy_quote', 'volume_log', 'volume_log_z']\n",
      "\n",
      "            open_time     open     high      low    close     volume  \\\n",
      "0 2024-01-01 00:00:00  2281.87  2287.84  2281.27  2287.84   910.5701   \n",
      "1 2024-01-01 00:05:00  2287.83  2291.83  2287.06  2290.77  1652.9290   \n",
      "2 2024-01-01 00:10:00  2290.77  2296.97  2290.76  2296.71  1829.5259   \n",
      "3 2024-01-01 00:15:00  2296.71  2297.00  2292.36  2292.36   890.8524   \n",
      "4 2024-01-01 00:20:00  2292.37  2295.87  2292.30  2294.67   763.7046   \n",
      "\n",
      "   quote_asset_volume  num_trades  taker_buy_base  taker_buy_quote  \\\n",
      "0        2.080313e+06        2593        585.7254     1.338369e+06   \n",
      "1        3.785227e+06        3354       1058.4951     2.423910e+06   \n",
      "2        4.197682e+06        3321       1033.8721     2.372038e+06   \n",
      "3        2.044781e+06        2332        249.9496     5.737015e+05   \n",
      "4        1.751663e+06        2029        525.5200     1.205274e+06   \n",
      "\n",
      "   volume_log  volume_log_z  \n",
      "0    6.815168      0.630704  \n",
      "1    7.410909      1.614154  \n",
      "2    7.512359      1.766073  \n",
      "3    6.793301      0.578234  \n",
      "4    6.639490      0.321646  \n"
     ]
    },
    {
     "data": {
      "text/html": [
       "<div>\n",
       "<style scoped>\n",
       "    .dataframe tbody tr th:only-of-type {\n",
       "        vertical-align: middle;\n",
       "    }\n",
       "\n",
       "    .dataframe tbody tr th {\n",
       "        vertical-align: top;\n",
       "    }\n",
       "\n",
       "    .dataframe thead th {\n",
       "        text-align: right;\n",
       "    }\n",
       "</style>\n",
       "<table border=\"1\" class=\"dataframe\">\n",
       "  <thead>\n",
       "    <tr style=\"text-align: right;\">\n",
       "      <th></th>\n",
       "      <th>open_time</th>\n",
       "      <th>open</th>\n",
       "      <th>high</th>\n",
       "      <th>low</th>\n",
       "      <th>close</th>\n",
       "      <th>volume</th>\n",
       "      <th>quote_asset_volume</th>\n",
       "      <th>num_trades</th>\n",
       "      <th>taker_buy_base</th>\n",
       "      <th>taker_buy_quote</th>\n",
       "      <th>volume_log</th>\n",
       "      <th>volume_log_z</th>\n",
       "    </tr>\n",
       "  </thead>\n",
       "  <tbody>\n",
       "    <tr>\n",
       "      <th>0</th>\n",
       "      <td>2024-01-01 00:00:00</td>\n",
       "      <td>2281.87</td>\n",
       "      <td>2287.84</td>\n",
       "      <td>2281.27</td>\n",
       "      <td>2287.84</td>\n",
       "      <td>910.5701</td>\n",
       "      <td>2.080313e+06</td>\n",
       "      <td>2593</td>\n",
       "      <td>585.7254</td>\n",
       "      <td>1.338369e+06</td>\n",
       "      <td>6.815168</td>\n",
       "      <td>0.630704</td>\n",
       "    </tr>\n",
       "    <tr>\n",
       "      <th>1</th>\n",
       "      <td>2024-01-01 00:05:00</td>\n",
       "      <td>2287.83</td>\n",
       "      <td>2291.83</td>\n",
       "      <td>2287.06</td>\n",
       "      <td>2290.77</td>\n",
       "      <td>1652.9290</td>\n",
       "      <td>3.785227e+06</td>\n",
       "      <td>3354</td>\n",
       "      <td>1058.4951</td>\n",
       "      <td>2.423910e+06</td>\n",
       "      <td>7.410909</td>\n",
       "      <td>1.614154</td>\n",
       "    </tr>\n",
       "    <tr>\n",
       "      <th>2</th>\n",
       "      <td>2024-01-01 00:10:00</td>\n",
       "      <td>2290.77</td>\n",
       "      <td>2296.97</td>\n",
       "      <td>2290.76</td>\n",
       "      <td>2296.71</td>\n",
       "      <td>1829.5259</td>\n",
       "      <td>4.197682e+06</td>\n",
       "      <td>3321</td>\n",
       "      <td>1033.8721</td>\n",
       "      <td>2.372038e+06</td>\n",
       "      <td>7.512359</td>\n",
       "      <td>1.766073</td>\n",
       "    </tr>\n",
       "    <tr>\n",
       "      <th>3</th>\n",
       "      <td>2024-01-01 00:15:00</td>\n",
       "      <td>2296.71</td>\n",
       "      <td>2297.00</td>\n",
       "      <td>2292.36</td>\n",
       "      <td>2292.36</td>\n",
       "      <td>890.8524</td>\n",
       "      <td>2.044781e+06</td>\n",
       "      <td>2332</td>\n",
       "      <td>249.9496</td>\n",
       "      <td>5.737015e+05</td>\n",
       "      <td>6.793301</td>\n",
       "      <td>0.578234</td>\n",
       "    </tr>\n",
       "    <tr>\n",
       "      <th>4</th>\n",
       "      <td>2024-01-01 00:20:00</td>\n",
       "      <td>2292.37</td>\n",
       "      <td>2295.87</td>\n",
       "      <td>2292.30</td>\n",
       "      <td>2294.67</td>\n",
       "      <td>763.7046</td>\n",
       "      <td>1.751663e+06</td>\n",
       "      <td>2029</td>\n",
       "      <td>525.5200</td>\n",
       "      <td>1.205274e+06</td>\n",
       "      <td>6.639490</td>\n",
       "      <td>0.321646</td>\n",
       "    </tr>\n",
       "  </tbody>\n",
       "</table>\n",
       "</div>"
      ],
      "text/plain": [
       "            open_time     open     high      low    close     volume  \\\n",
       "0 2024-01-01 00:00:00  2281.87  2287.84  2281.27  2287.84   910.5701   \n",
       "1 2024-01-01 00:05:00  2287.83  2291.83  2287.06  2290.77  1652.9290   \n",
       "2 2024-01-01 00:10:00  2290.77  2296.97  2290.76  2296.71  1829.5259   \n",
       "3 2024-01-01 00:15:00  2296.71  2297.00  2292.36  2292.36   890.8524   \n",
       "4 2024-01-01 00:20:00  2292.37  2295.87  2292.30  2294.67   763.7046   \n",
       "\n",
       "   quote_asset_volume  num_trades  taker_buy_base  taker_buy_quote  \\\n",
       "0        2.080313e+06        2593        585.7254     1.338369e+06   \n",
       "1        3.785227e+06        3354       1058.4951     2.423910e+06   \n",
       "2        4.197682e+06        3321       1033.8721     2.372038e+06   \n",
       "3        2.044781e+06        2332        249.9496     5.737015e+05   \n",
       "4        1.751663e+06        2029        525.5200     1.205274e+06   \n",
       "\n",
       "   volume_log  volume_log_z  \n",
       "0    6.815168      0.630704  \n",
       "1    7.410909      1.614154  \n",
       "2    7.512359      1.766073  \n",
       "3    6.793301      0.578234  \n",
       "4    6.639490      0.321646  "
      ]
     },
     "metadata": {},
     "output_type": "display_data"
    },
    {
     "name": "stdout",
     "output_type": "stream",
     "text": [
      "Data shape: (17280, 12)\n"
     ]
    }
   ],
   "source": [
    "# Load ETH/USDT 5-minute candle data\n",
    "df = load_eth_data()\n",
    "display(df.head())\n",
    "print(f\"Data shape: {df.shape}\")\n"
   ]
  },
  {
   "cell_type": "code",
   "execution_count": 8,
   "id": "137f8c40-9233-49f0-8a84-f32f77ab7d77",
   "metadata": {},
   "outputs": [
    {
     "name": "stdout",
     "output_type": "stream",
     "text": [
      "\n",
      "════════════════════════════════════════════════════════════\n",
      "                Preparing Data and Features                 \n",
      "════════════════════════════════════════════════════════════\n",
      "μ=0.000022, σ=0.001711, kurtosis=nan\n",
      "\n",
      "════════════════════════════════════════════════════════════\n",
      "                   Missing Data Detected                    \n",
      "════════════════════════════════════════════════════════════\n",
      " • rolling_mean         :    100 missing values\n",
      " • rolling_std          :    100 missing values\n",
      " • rolling_median       :    100 missing values\n",
      " • rolling_mad          :    100 missing values\n",
      " • log_return           :      1 missing values\n",
      "\n",
      "Total missing values: 401\n"
     ]
    },
    {
     "name": "stdin",
     "output_type": "stream",
     "text": [
      "\n",
      "Remove NaN values and continue? (y/n):  y\n"
     ]
    },
    {
     "name": "stdout",
     "output_type": "stream",
     "text": [
      "🧹 Dropping NaN rows and continuing...\n",
      "\n",
      "════════════════════════════════════════════════════════════\n",
      "                    Model Input Summary                     \n",
      "════════════════════════════════════════════════════════════\n",
      " Observations :      17080\n",
      " Mean          :   0.000022\n",
      " Std Dev       :   0.001711\n",
      " Kurtosis      :        nan\n",
      "\n",
      "════════════════════════════════════════════════════════════\n",
      "                 Initializing EGARCH Model                  \n",
      "════════════════════════════════════════════════════════════\n",
      "\n",
      "════════════════════════════════════════════════════════════\n",
      "                   Training EGARCH Model                    \n",
      "════════════════════════════════════════════════════════════\n"
     ]
    },
    {
     "name": "stderr",
     "output_type": "stream",
     "text": [
      "C:\\Users\\edgen\\anaconda3\\envs\\PythonforDataScience\\Lib\\site-packages\\arch\\univariate\\base.py:309: DataScaleWarning: y is poorly scaled, which may affect convergence of the optimizer when\n",
      "estimating the model parameters. The scale of y is 0.02937. Parameter\n",
      "estimation work better when this value is between 1 and 1000. The recommended\n",
      "rescaling is 10 * y.\n",
      "\n",
      "This warning can be disabled by either rescaling y before initializing the\n",
      "model or by setting rescale=False.\n",
      "\n",
      "  warnings.warn(\n"
     ]
    },
    {
     "name": "stdout",
     "output_type": "stream",
     "text": [
      "\n",
      "════════════════════════════════════════════════════════════\n",
      "                   Model Training Summary                   \n",
      "════════════════════════════════════════════════════════════\n",
      "                        Constant Mean - EGARCH Model Results                        \n",
      "====================================================================================\n",
      "Dep. Variable:                   log_return   R-squared:                       0.000\n",
      "Mean Model:                   Constant Mean   Adj. R-squared:                  0.000\n",
      "Vol Model:                           EGARCH   Log-Likelihood:                10619.9\n",
      "Distribution:      Standardized Student's t   AIC:                          -21227.9\n",
      "Method:                  Maximum Likelihood   BIC:                          -21181.4\n",
      "                                              No. Observations:                17080\n",
      "Date:                      Tue, Oct 14 2025   Df Residuals:                    17079\n",
      "Time:                              09:09:21   Df Model:                            1\n",
      "                                  Mean Model                                 \n",
      "=============================================================================\n",
      "                 coef    std err          t      P>|t|       95.0% Conf. Int.\n",
      "-----------------------------------------------------------------------------\n",
      "mu         1.4655e-03  7.976e-04      1.837  6.616e-02 [-9.780e-05,3.029e-03]\n",
      "                               Volatility Model                               \n",
      "==============================================================================\n",
      "                 coef    std err          t      P>|t|        95.0% Conf. Int.\n",
      "------------------------------------------------------------------------------\n",
      "omega         -0.0691  9.786e-03     -7.065  1.606e-12 [-8.832e-02,-4.996e-02]\n",
      "alpha[1]       0.2327  1.362e-02     17.085  1.922e-65       [  0.206,  0.259]\n",
      "gamma[1]   5.8563e-04  5.844e-03      0.100      0.920  [-1.087e-02,1.204e-02]\n",
      "beta[1]        0.9795  2.515e-03    389.457      0.000       [  0.975,  0.984]\n",
      "                              Distribution                              \n",
      "========================================================================\n",
      "                 coef    std err          t      P>|t|  95.0% Conf. Int.\n",
      "------------------------------------------------------------------------\n",
      "nu             5.2854      0.217     24.343 6.801e-131 [  4.860,  5.711]\n",
      "========================================================================\n",
      "\n",
      "Covariance estimator: robust\n"
     ]
    }
   ],
   "source": [
    "# Train EGARCH(1,1) model\n",
    "# You can change parameters here interactively\n",
    "p, o, q = 1, 1, 1\n",
    "\n",
    "res, df = train_egarch(df, p=p, o=o, q=q)\n"
   ]
  },
  {
   "cell_type": "code",
   "execution_count": 7,
   "id": "5caaefc1-5ff5-4965-95a0-0eb73971d71f",
   "metadata": {},
   "outputs": [
    {
     "name": "stdout",
     "output_type": "stream",
     "text": [
      "68.47239307715556\n",
      "68.47239307715556\n"
     ]
    }
   ],
   "source": [
    "import scipy.stats as st\n",
    "print(st.kurtosis(df[\"log_return\"].to_numpy(), fisher=True, bias=False))\n",
    "print(st.kurtosis(df[\"log_return\"].astype(np.float64).values, fisher=True, bias=False))\n"
   ]
  }
 ],
 "metadata": {
  "kernelspec": {
   "display_name": "PythonforDataScience",
   "language": "python",
   "name": "pythonfordatascience"
  },
  "language_info": {
   "codemirror_mode": {
    "name": "ipython",
    "version": 3
   },
   "file_extension": ".py",
   "mimetype": "text/x-python",
   "name": "python",
   "nbconvert_exporter": "python",
   "pygments_lexer": "ipython3",
   "version": "3.13.5"
  }
 },
 "nbformat": 4,
 "nbformat_minor": 5
}
