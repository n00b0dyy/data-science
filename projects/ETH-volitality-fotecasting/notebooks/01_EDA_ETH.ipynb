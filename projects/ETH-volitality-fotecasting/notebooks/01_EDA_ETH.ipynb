{
 "cells": [
  {
   "cell_type": "code",
   "execution_count": 2,
   "id": "d2dbe462-9359-4db7-b653-9edfa268c265",
   "metadata": {},
   "outputs": [
    {
     "name": "stdout",
     "output_type": "stream",
     "text": [
      "✅ Dane treningowe załadowane poprawnie.\n",
      "Train shape: (17279, 11)\n",
      "Train range: 2024-01-01 00:05:00 → 2024-02-29 23:55:00\n",
      "\n",
      "--- TRAIN ---\n",
      "<class 'pandas.core.frame.DataFrame'>\n",
      "RangeIndex: 17279 entries, 0 to 17278\n",
      "Data columns (total 11 columns):\n",
      " #   Column              Non-Null Count  Dtype         \n",
      "---  ------              --------------  -----         \n",
      " 0   open_time           17279 non-null  datetime64[ns]\n",
      " 1   open                17279 non-null  float64       \n",
      " 2   high                17279 non-null  float64       \n",
      " 3   low                 17279 non-null  float64       \n",
      " 4   close               17279 non-null  float64       \n",
      " 5   volume              17279 non-null  float64       \n",
      " 6   quote_asset_volume  17279 non-null  float64       \n",
      " 7   num_trades          17279 non-null  int64         \n",
      " 8   taker_buy_base      17279 non-null  float64       \n",
      " 9   taker_buy_quote     17279 non-null  float64       \n",
      " 10  log_return          17279 non-null  float64       \n",
      "dtypes: datetime64[ns](1), float64(9), int64(1)\n",
      "memory usage: 1.5 MB\n",
      "            open_time     open     high      low    close     volume  \\\n",
      "0 2024-01-01 00:05:00  2287.83  2291.83  2287.06  2290.77  1652.9290   \n",
      "1 2024-01-01 00:10:00  2290.77  2296.97  2290.76  2296.71  1829.5259   \n",
      "2 2024-01-01 00:15:00  2296.71  2297.00  2292.36  2292.36   890.8524   \n",
      "3 2024-01-01 00:20:00  2292.37  2295.87  2292.30  2294.67   763.7046   \n",
      "4 2024-01-01 00:25:00  2294.68  2295.91  2289.00  2291.05  1035.9491   \n",
      "\n",
      "   quote_asset_volume  num_trades  taker_buy_base  taker_buy_quote  log_return  \n",
      "0        3.785227e+06        3354       1058.4951     2.423910e+06    0.001280  \n",
      "1        4.197682e+06        3321       1033.8721     2.372038e+06    0.002590  \n",
      "2        2.044781e+06        2332        249.9496     5.737015e+05   -0.001896  \n",
      "3        1.751663e+06        2029        525.5200     1.205274e+06    0.001007  \n",
      "4        2.373492e+06        2332        356.0413     8.156861e+05   -0.001579  \n"
     ]
    }
   ],
   "source": [
    "# ===========================================\n",
    "# Notebook: 01_EDA_ETH.ipynb\n",
    "# Test działania modułu data_loader\n",
    "# ===========================================\n",
    "\n",
    "import os\n",
    "import sys\n",
    "import pandas as pd\n",
    "\n",
    "# --- Ustawiamy ścieżkę do katalogu projektu ---\n",
    "project_root = os.path.abspath(os.path.join(\"..\"))  # jeden poziom wyżej niż notebooks/\n",
    "if project_root not in sys.path:\n",
    "    sys.path.append(project_root)\n",
    "\n",
    "# --- Import funkcji z modułu data_loader ---\n",
    "from src.data_loader import load_train_test_data\n",
    "\n",
    "# --- Uruchamiamy funkcję, która wczyta dane i policzy log-returny ---\n",
    "train_df= load_train_test_data(load_test=False)\n",
    "\n",
    "# --- Sprawdzamy podstawowe informacje ---\n",
    "print(\"\\n--- TRAIN ---\")\n",
    "train_df.info()\n",
    "print(train_df.head())\n",
    "\n",
    "# print(\"\\n--- TEST ---\")\n",
    "# test_df.info()\n",
    "# print(test_df.head())\n",
    "\n",
    "# # --- Szybka kontrola log_return ---\n",
    "# print(\"\\nZakres log_return (train):\", train_df[\"log_return\"].min(), \"→\", train_df[\"log_return\"].max())\n",
    "# print(\"Zakres log_return (test):\", test_df[\"log_return\"].min(), \"→\", test_df[\"log_return\"].max())\n"
   ]
  }
 ],
 "metadata": {
  "kernelspec": {
   "display_name": "PythonforDataScience",
   "language": "python",
   "name": "pythonfordatascience"
  },
  "language_info": {
   "codemirror_mode": {
    "name": "ipython",
    "version": 3
   },
   "file_extension": ".py",
   "mimetype": "text/x-python",
   "name": "python",
   "nbconvert_exporter": "python",
   "pygments_lexer": "ipython3",
   "version": "3.13.5"
  }
 },
 "nbformat": 4,
 "nbformat_minor": 5
}
