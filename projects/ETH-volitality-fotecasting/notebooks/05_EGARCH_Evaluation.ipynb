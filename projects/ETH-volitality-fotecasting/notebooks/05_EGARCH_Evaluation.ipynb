{
 "cells": [
  {
   "cell_type": "code",
   "execution_count": 1,
   "id": "d5e797b9-ceb2-4a69-8ba0-6c10562df681",
   "metadata": {},
   "outputs": [
    {
     "name": "stdout",
     "output_type": "stream",
     "text": [
      "✅ Dodano ścieżkę projektu: C:\\GitHubRepo\\data-science\\projects\\ETH-volitality-fotecasting\n"
     ]
    }
   ],
   "source": [
    "import os, sys\n",
    "\n",
    "# Ustal ścieżkę do katalogu głównego projektu (tam, gdzie masz folder src/)\n",
    "project_root = os.path.abspath(os.path.join(\"..\"))\n",
    "if project_root not in sys.path:\n",
    "    sys.path.append(project_root)\n",
    "\n",
    "print(\"✅ Dodano ścieżkę projektu:\", project_root)\n"
   ]
  },
  {
   "cell_type": "code",
   "execution_count": null,
   "id": "eab3d0e6-b64e-4114-a743-0ca62e38f3fe",
   "metadata": {},
   "outputs": [
    {
     "name": "stdout",
     "output_type": "stream",
     "text": [
      "📂 Wczytuję model z egarch_ETH_5m_p1_o1_q1_t.pkl...\n",
      "📈 Wczytuję dane testowe...\n",
      "✅ Dane załadowane poprawnie (train + test).\n",
      "Train shape: (17279, 11), Test shape: (8927, 11)\n",
      "Train range: 2024-01-01 00:05:00 → 2024-02-29 23:55:00\n",
      "Test range:  2024-03-01 00:05:00 → 2024-03-31 23:55:00\n",
      "📏 Używam tylko pierwszych 1100 świeczek z testu.\n",
      "🔮 Liczę rolling forecast wariancji...\n"
     ]
    }
   ],
   "source": [
    "import sys, os\n",
    "sys.path.append(os.path.abspath(\"../src\"))\n",
    "\n",
    "from evaluation import evaluate_egarch\n",
    "\n",
    "# Rolling refit forecast (adaptacyjny)\n",
    "evaluate_egarch(n_obs=1100)\n",
    "\n",
    "\n"
   ]
  },
  {
   "cell_type": "code",
   "execution_count": null,
   "id": "fc3f7f00-2ee5-455e-91b9-500bfe9880ce",
   "metadata": {},
   "outputs": [],
   "source": []
  }
 ],
 "metadata": {
  "kernelspec": {
   "display_name": "PythonforDataScience",
   "language": "python",
   "name": "pythonfordatascience"
  },
  "language_info": {
   "codemirror_mode": {
    "name": "ipython",
    "version": 3
   },
   "file_extension": ".py",
   "mimetype": "text/x-python",
   "name": "python",
   "nbconvert_exporter": "python",
   "pygments_lexer": "ipython3",
   "version": "3.13.5"
  }
 },
 "nbformat": 4,
 "nbformat_minor": 5
}
