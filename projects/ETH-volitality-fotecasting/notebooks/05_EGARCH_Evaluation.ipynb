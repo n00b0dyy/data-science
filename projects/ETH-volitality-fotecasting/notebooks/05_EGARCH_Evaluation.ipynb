{
 "cells": [
  {
   "cell_type": "markdown",
   "id": "028910e2-4194-46cf-8474-43e93ac22bed",
   "metadata": {},
   "source": [
    "\n",
    "z\n",
    "\n",
    "\n",
    "\n",
    "**Notatka – analiza wyników EGARCH (out-of-sample)**\n",
    "\n",
    "Model EGARCH(1,1) na danych testowych wykazał bardzo niską korelację (~0.2) między prognozowaną a zrealizowaną zmiennością, mimo że wizualnie serie są zbliżone. Przyczyną są pojedyncze skrajne wartości (outliery), które znacząco zniekształcają metryki korelacji i błędu.\n",
    "\n",
    "Wyniki mogą również sugerować **możliwy leakage w zbiorze treningowym** – model mógł nieświadomie korzystać z danych z przyszłości (np. przez overlap rolling window lub niewłaściwy podział czasowy).\n",
    "\n",
    "**Kroki do wykonania jutro:**\n",
    "\n",
    "* Zweryfikować, czy dane treningowe i testowe są w pełni rozdzielone czasowo.\n",
    "* Sprawdzić, czy rolling features nie sięgają do okresu testowego.\n",
    "* Rozważyć **usunięcie lub winsoryzację 1% skrajnych obserwacji** (outlierów w predicted_vol).\n",
    "* Ponownie przeliczyć korelację (Pearson i Spearman) po oczyszczeniu danych.\n"
   ]
  }
 ],
 "metadata": {
  "kernelspec": {
   "display_name": "PythonforDataScience",
   "language": "python",
   "name": "pythonfordatascience"
  },
  "language_info": {
   "codemirror_mode": {
    "name": "ipython",
    "version": 3
   },
   "file_extension": ".py",
   "mimetype": "text/x-python",
   "name": "python",
   "nbconvert_exporter": "python",
   "pygments_lexer": "ipython3",
   "version": "3.13.5"
  }
 },
 "nbformat": 4,
 "nbformat_minor": 5
}
